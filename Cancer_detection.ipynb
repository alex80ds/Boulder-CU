{
 "cells": [
  {
   "cell_type": "markdown",
   "id": "f9a88cdb-8aca-48f4-8980-f5225db8cb32",
   "metadata": {},
   "source": [
    "This project focuses on using Convolutional Neural Networks (CNNs) for Histopathologic Cancer Detection, an essential task in medical diagnosis. Histopathologic analysis involves examining tissue samples under a microscope to detect diseases like cancer. CNNs are employed to automate and improve the accuracy of cancer cell detection in complex histopathology images.\n",
    "\n",
    "The challenge lies in training a CNN model to recognize subtle patterns indicative of cancer in these images, considering the intricate tissue structures and variations.\n",
    "\n",
    "The dataset used is from a Kaggle competition, containing annotated high-resolution lymph node section images. Each image is labeled for the presence of metastatic tissue, a key cancer indicator.\n",
    "\n",
    "In summary, the project aims to develop an AI model for accurate cancer cell detection in histopathology images, aiding in early diagnosis."
   ]
  },
  {
   "cell_type": "code",
   "execution_count": 1,
   "id": "066304f8-cf9d-48af-9f2d-f725d646e79c",
   "metadata": {},
   "outputs": [
    {
     "name": "stderr",
     "output_type": "stream",
     "text": [
      "2024-01-14 16:15:18.070558: I tensorflow/core/util/port.cc:113] oneDNN custom operations are on. You may see slightly different numerical results due to floating-point round-off errors from different computation orders. To turn them off, set the environment variable `TF_ENABLE_ONEDNN_OPTS=0`.\n",
      "2024-01-14 16:15:18.073118: I external/local_tsl/tsl/cuda/cudart_stub.cc:31] Could not find cuda drivers on your machine, GPU will not be used.\n",
      "2024-01-14 16:15:18.106235: E external/local_xla/xla/stream_executor/cuda/cuda_dnn.cc:9261] Unable to register cuDNN factory: Attempting to register factory for plugin cuDNN when one has already been registered\n",
      "2024-01-14 16:15:18.106261: E external/local_xla/xla/stream_executor/cuda/cuda_fft.cc:607] Unable to register cuFFT factory: Attempting to register factory for plugin cuFFT when one has already been registered\n",
      "2024-01-14 16:15:18.107147: E external/local_xla/xla/stream_executor/cuda/cuda_blas.cc:1515] Unable to register cuBLAS factory: Attempting to register factory for plugin cuBLAS when one has already been registered\n",
      "2024-01-14 16:15:18.112486: I external/local_tsl/tsl/cuda/cudart_stub.cc:31] Could not find cuda drivers on your machine, GPU will not be used.\n",
      "2024-01-14 16:15:18.112836: I tensorflow/core/platform/cpu_feature_guard.cc:182] This TensorFlow binary is optimized to use available CPU instructions in performance-critical operations.\n",
      "To enable the following instructions: AVX2 AVX512F AVX512_VNNI FMA, in other operations, rebuild TensorFlow with the appropriate compiler flags.\n",
      "2024-01-14 16:15:18.812562: W tensorflow/compiler/tf2tensorrt/utils/py_utils.cc:38] TF-TRT Warning: Could not find TensorRT\n"
     ]
    }
   ],
   "source": [
    "import numpy as np\n",
    "import pandas as pd\n",
    "import matplotlib.pyplot as plt\n",
    "from PIL import Image\n",
    "import tensorflow as tf\n",
    "import os\n",
    "import warnings\n",
    "warnings.filterwarnings(action='ignore')"
   ]
  },
  {
   "cell_type": "markdown",
   "id": "cf7aa90e-4fe1-48ea-b39e-f7c6359ba72f",
   "metadata": {},
   "source": [
    "## EDA"
   ]
  },
  {
   "cell_type": "code",
   "execution_count": 2,
   "id": "18744295-bb78-44e3-a3a6-4ac473e0380d",
   "metadata": {},
   "outputs": [],
   "source": [
    "train_df = pd.read_csv('train_labels.csv')"
   ]
  },
  {
   "cell_type": "code",
   "execution_count": 3,
   "id": "5c516493-866f-47d7-a175-bfaf86f0783f",
   "metadata": {},
   "outputs": [
    {
     "data": {
      "text/html": [
       "<div>\n",
       "<style scoped>\n",
       "    .dataframe tbody tr th:only-of-type {\n",
       "        vertical-align: middle;\n",
       "    }\n",
       "\n",
       "    .dataframe tbody tr th {\n",
       "        vertical-align: top;\n",
       "    }\n",
       "\n",
       "    .dataframe thead th {\n",
       "        text-align: right;\n",
       "    }\n",
       "</style>\n",
       "<table border=\"1\" class=\"dataframe\">\n",
       "  <thead>\n",
       "    <tr style=\"text-align: right;\">\n",
       "      <th></th>\n",
       "      <th>id</th>\n",
       "      <th>label</th>\n",
       "    </tr>\n",
       "  </thead>\n",
       "  <tbody>\n",
       "    <tr>\n",
       "      <th>0</th>\n",
       "      <td>f38a6374c348f90b587e046aac6079959adf3835</td>\n",
       "      <td>0</td>\n",
       "    </tr>\n",
       "    <tr>\n",
       "      <th>1</th>\n",
       "      <td>c18f2d887b7ae4f6742ee445113fa1aef383ed77</td>\n",
       "      <td>1</td>\n",
       "    </tr>\n",
       "    <tr>\n",
       "      <th>2</th>\n",
       "      <td>755db6279dae599ebb4d39a9123cce439965282d</td>\n",
       "      <td>0</td>\n",
       "    </tr>\n",
       "    <tr>\n",
       "      <th>3</th>\n",
       "      <td>bc3f0c64fb968ff4a8bd33af6971ecae77c75e08</td>\n",
       "      <td>0</td>\n",
       "    </tr>\n",
       "    <tr>\n",
       "      <th>4</th>\n",
       "      <td>068aba587a4950175d04c680d38943fd488d6a9d</td>\n",
       "      <td>0</td>\n",
       "    </tr>\n",
       "  </tbody>\n",
       "</table>\n",
       "</div>"
      ],
      "text/plain": [
       "                                         id  label\n",
       "0  f38a6374c348f90b587e046aac6079959adf3835      0\n",
       "1  c18f2d887b7ae4f6742ee445113fa1aef383ed77      1\n",
       "2  755db6279dae599ebb4d39a9123cce439965282d      0\n",
       "3  bc3f0c64fb968ff4a8bd33af6971ecae77c75e08      0\n",
       "4  068aba587a4950175d04c680d38943fd488d6a9d      0"
      ]
     },
     "execution_count": 3,
     "metadata": {},
     "output_type": "execute_result"
    }
   ],
   "source": [
    "train_df.head()"
   ]
  },
  {
   "cell_type": "code",
   "execution_count": 4,
   "id": "28c22b26-7930-4816-be66-14b342750da2",
   "metadata": {},
   "outputs": [
    {
     "name": "stdout",
     "output_type": "stream",
     "text": [
      "<class 'pandas.core.frame.DataFrame'>\n",
      "RangeIndex: 220025 entries, 0 to 220024\n",
      "Data columns (total 2 columns):\n",
      " #   Column  Non-Null Count   Dtype \n",
      "---  ------  --------------   ----- \n",
      " 0   id      220025 non-null  object\n",
      " 1   label   220025 non-null  int64 \n",
      "dtypes: int64(1), object(1)\n",
      "memory usage: 3.4+ MB\n"
     ]
    }
   ],
   "source": [
    "train_df.info()"
   ]
  },
  {
   "cell_type": "code",
   "execution_count": 10,
   "id": "e0eddb79-14e9-4fda-baa0-4b291bac6418",
   "metadata": {},
   "outputs": [],
   "source": [
    "train_imgs = os.listdir('train')\n",
    "train_imgs = os.listdir(\"train\")\n",
    "for idx, img in enumerate(np.random.choice(train_imgs, 20)):\n",
    "    ax = fig.add_subplot(2, 20//2, idx+1, xticks=[], yticks=[])\n",
    "    im = Image.open(\"train/\" + img)"
   ]
  },
  {
   "cell_type": "code",
   "execution_count": 11,
   "id": "75dd8d43-cc74-4235-be98-7caa8e244f4f",
   "metadata": {
    "scrolled": true
   },
   "outputs": [
    {
     "data": {
      "text/plain": [
       "(96, 96, 3)"
      ]
     },
     "execution_count": 11,
     "metadata": {},
     "output_type": "execute_result"
    }
   ],
   "source": [
    "np.array(im).shape"
   ]
  },
  {
   "cell_type": "code",
   "execution_count": 15,
   "id": "4b254ec1-ff27-4871-8b90-54d9a6711a28",
   "metadata": {},
   "outputs": [
    {
     "data": {
      "image/png": "[encoded data removed]",
      "text/plain": [
       "<Figure size 640x480 with 1 Axes>"
      ]
     },
     "metadata": {},
     "output_type": "display_data"
    }
   ],
   "source": [
    "train_df['label'].value_counts().plot(kind='pie', legend=True, autopct='%1.1f%%');"
   ]
  },
  {
   "cell_type": "code",
   "execution_count": 19,
   "id": "a7f6466b-88fb-4465-85fd-b857488173d5",
   "metadata": {},
   "outputs": [],
   "source": [
    "def convert_image(image_file, label=0, with_label=True, subset='train'):\n",
    "    image_name = image_file.split('.')[0]\n",
    "    \n",
    "    if with_label:\n",
    "        output_dir = f'png/{subset}/{label}'\n",
    "    else:\n",
    "        output_dir = f'png/{subset}'\n",
    "\n",
    "    os.makedirs(output_dir, exist_ok=True)\n",
    "\n",
    "    output_path = f'{output_dir}/{image_name}.png'\n",
    "    if not os.path.exists(output_path):\n",
    "        with Image.open(f'{subset}/{image_file}') as tiff_img:\n",
    "            png = tiff_img.convert(\"RGB\")\n",
    "            png.save(output_path)"
   ]
  },
  {
   "cell_type": "code",
   "execution_count": 20,
   "id": "68dbc88d-87f2-41c1-ae7b-c7ff8d028de5",
   "metadata": {},
   "outputs": [],
   "source": [
    "import multiprocessing\n",
    "from tqdm import tqdm\n",
    "\n",
    "def convert_image_wrapper(args):\n",
    "    return convert_image(*args)\n",
    "\n",
    "def process_images(image_files, labels=[], with_label=True, subset='train'):\n",
    "    num_processes = multiprocessing.cpu_count()\n",
    "    \n",
    "    with multiprocessing.Pool(processes=num_processes) as pool:\n",
    "        tasks = [(filename, labels[index] if with_label else 0, with_label, subset) for index, filename in enumerate(image_files)]\n",
    "        for _ in tqdm(pool.imap_unordered(convert_image_wrapper, tasks), total=len(tasks)):\n",
    "            pass"
   ]
  },
  {
   "cell_type": "code",
   "execution_count": 21,
   "id": "e1f2cad9-47f4-4b76-ab4a-0d634a5e203e",
   "metadata": {},
   "outputs": [
    {
     "name": "stderr",
     "output_type": "stream",
     "text": [
      "100%|█████████████████████████████████| 220025/220025 [01:23<00:00, 2635.45it/s]\n"
     ]
    }
   ],
   "source": [
    "process_images((train_df['id']+'.tif').values.tolist(), labels=train_df['label'].values.tolist())"
   ]
  },
  {
   "cell_type": "code",
   "execution_count": 22,
   "id": "1e994533-6f0d-4ca3-a23e-e5f46cc2ab49",
   "metadata": {},
   "outputs": [
    {
     "name": "stderr",
     "output_type": "stream",
     "text": [
      "100%|███████████████████████████████████| 57458/57458 [00:18<00:00, 3072.54it/s]\n"
     ]
    }
   ],
   "source": [
    "process_images(os.listdir(\"test\"), with_label=False, subset='test')"
   ]
  },
  {
   "cell_type": "code",
   "execution_count": 24,
   "id": "0c27b735-2eed-4847-8c0c-dc9897594f00",
   "metadata": {},
   "outputs": [
    {
     "name": "stdout",
     "output_type": "stream",
     "text": [
      "Found 220025 files belonging to 2 classes.\n",
      "Using 176020 files for training.\n",
      "Found 220025 files belonging to 2 classes.\n",
      "Using 44005 files for validation.\n"
     ]
    }
   ],
   "source": [
    "train_dataset = tf.keras.utils.image_dataset_from_directory('png/train', \n",
    "                                                            label_mode='binary',\n",
    "                                                            image_size=(96,96), \n",
    "                                                            seed=42,\n",
    "                                                            validation_split=0.2,\n",
    "                                                            subset='training',\n",
    "                                                            batch_size=128)\n",
    "\n",
    "val_dataset = tf.keras.utils.image_dataset_from_directory('png/train', \n",
    "                                                            label_mode='binary',\n",
    "                                                            image_size=(96,96), \n",
    "                                                            seed=42,\n",
    "                                                            validation_split=0.2,\n",
    "                                                            subset='validation',\n",
    "                                                            batch_size=128)"
   ]
  },
  {
   "cell_type": "code",
   "execution_count": 25,
   "id": "f02fe9d2-09f8-43fb-b3b0-5d5231489598",
   "metadata": {},
   "outputs": [
    {
     "name": "stdout",
     "output_type": "stream",
     "text": [
      "Found 57458 files belonging to 1 classes.\n"
     ]
    }
   ],
   "source": [
    "test_dataset = tf.keras.utils.image_dataset_from_directory('png/test',\n",
    "                                                            label_mode=None,\n",
    "                                                            image_size=(96,96),\n",
    "                                                            shuffle=False,\n",
    "                                                            batch_size=1)"
   ]
  },
  {
   "cell_type": "markdown",
   "id": "28731fea-0e34-40ec-aa5a-9f1794d9144f",
   "metadata": {},
   "source": [
    "## model building and training"
   ]
  },
  {
   "cell_type": "code",
   "execution_count": 34,
   "id": "2b17e708-9b18-4ff9-8fa4-42a77de3aa1c",
   "metadata": {},
   "outputs": [
    {
     "name": "stdout",
     "output_type": "stream",
     "text": [
      "Model: \"sequential_3\"\n",
      "_________________________________________________________________\n",
      " Layer (type)                Output Shape              Param #   \n",
      "=================================================================\n",
      " conv2d_9 (Conv2D)           (None, 94, 94, 32)        896       \n",
      "                                                                 \n",
      " max_pooling2d_8 (MaxPoolin  (None, 47, 47, 32)        0         \n",
      " g2D)                                                            \n",
      "                                                                 \n",
      " conv2d_10 (Conv2D)          (None, 45, 45, 64)        18496     \n",
      "                                                                 \n",
      " max_pooling2d_9 (MaxPoolin  (None, 22, 22, 64)        0         \n",
      " g2D)                                                            \n",
      "                                                                 \n",
      " conv2d_11 (Conv2D)          (None, 20, 20, 128)       73856     \n",
      "                                                                 \n",
      " max_pooling2d_10 (MaxPooli  (None, 10, 10, 128)       0         \n",
      " ng2D)                                                           \n",
      "                                                                 \n",
      " flatten_3 (Flatten)         (None, 12800)             0         \n",
      "                                                                 \n",
      " dense_7 (Dense)             (None, 128)               1638528   \n",
      "                                                                 \n",
      " dense_8 (Dense)             (None, 1)                 129       \n",
      "                                                                 \n",
      "=================================================================\n",
      "Total params: 1731905 (6.61 MB)\n",
      "Trainable params: 1731905 (6.61 MB)\n",
      "Non-trainable params: 0 (0.00 Byte)\n",
      "_________________________________________________________________\n",
      "Epoch 1/10\n",
      "1376/1376 [==============================] - 380s 276ms/step - loss: 0.8237 - accuracy: 0.7769 - val_loss: 0.4166 - val_accuracy: 0.8165\n",
      "Epoch 2/10\n",
      "1376/1376 [==============================] - 382s 278ms/step - loss: 0.4096 - accuracy: 0.8203 - val_loss: 0.3839 - val_accuracy: 0.8308\n",
      "Epoch 3/10\n",
      "1376/1376 [==============================] - 371s 270ms/step - loss: 0.3634 - accuracy: 0.8434 - val_loss: 0.3319 - val_accuracy: 0.8573\n",
      "Epoch 4/10\n",
      "1376/1376 [==============================] - 371s 270ms/step - loss: 0.3291 - accuracy: 0.8611 - val_loss: 0.3476 - val_accuracy: 0.8551\n",
      "Epoch 5/10\n",
      "1376/1376 [==============================] - 371s 269ms/step - loss: 0.3008 - accuracy: 0.8745 - val_loss: 0.3493 - val_accuracy: 0.8508\n",
      "Epoch 6/10\n",
      "1376/1376 [==============================] - 371s 269ms/step - loss: 0.2769 - accuracy: 0.8873 - val_loss: 0.2664 - val_accuracy: 0.8938\n",
      "Epoch 7/10\n",
      "1376/1376 [==============================] - 372s 270ms/step - loss: 0.2623 - accuracy: 0.8930 - val_loss: 0.2691 - val_accuracy: 0.8920\n",
      "Epoch 8/10\n",
      "1376/1376 [==============================] - 372s 270ms/step - loss: 0.2446 - accuracy: 0.9016 - val_loss: 0.2743 - val_accuracy: 0.8894\n",
      "Epoch 9/10\n",
      "1376/1376 [==============================] - 375s 273ms/step - loss: 0.2303 - accuracy: 0.9081 - val_loss: 0.3099 - val_accuracy: 0.8797\n",
      "Epoch 10/10\n",
      "1376/1376 [==============================] - 373s 271ms/step - loss: 0.2159 - accuracy: 0.9137 - val_loss: 0.2783 - val_accuracy: 0.8975\n"
     ]
    }
   ],
   "source": [
    "import tensorflow as tf\n",
    "from tensorflow.keras import layers, models\n",
    "\n",
    "model = models.Sequential([\n",
    "    layers.Conv2D(32, (3, 3), activation='relu', input_shape=(96, 96, 3)),\n",
    "    layers.MaxPooling2D((2, 2)),\n",
    "    \n",
    "    layers.Conv2D(64, (3, 3), activation='relu'),\n",
    "    layers.MaxPooling2D((2, 2)),\n",
    "    \n",
    "    layers.Conv2D(128, (3, 3), activation='relu'),\n",
    "    layers.MaxPooling2D((2, 2)),\n",
    "\n",
    "    layers.Flatten(),\n",
    "    \n",
    "    layers.Dense(128, activation='relu'),\n",
    "\n",
    "    layers.Dense(1, activation='sigmoid')\n",
    "])\n",
    "\n",
    "model.compile(optimizer='adam',\n",
    "              loss='binary_crossentropy',\n",
    "              metrics=['accuracy'])\n",
    "\n",
    "model.summary()\n",
    "\n",
    "history = model.fit(\n",
    "    train_dataset,\n",
    "    validation_data=val_dataset,\n",
    "    epochs=10\n",
    ")\n"
   ]
  },
  {
   "cell_type": "code",
   "execution_count": 35,
   "id": "0b052f38-82b5-46c2-a555-3d02c636d074",
   "metadata": {},
   "outputs": [
    {
     "data": {
      "image/png": "[encoded data removed]",
      "text/plain": [
       "<Figure size 640x480 with 1 Axes>"
      ]
     },
     "metadata": {},
     "output_type": "display_data"
    }
   ],
   "source": [
    "plt.plot(history.history['accuracy'], label='accuracy')\n",
    "plt.plot(history.history['val_accuracy'], label = 'val_accuracy')\n",
    "plt.xlabel('Epoch')\n",
    "plt.ylabel('Accuracy')\n",
    "plt.ylim([0.5, 1])\n",
    "plt.title('Train vs Validation Accuracy Per Epoch')\n",
    "plt.legend(loc='lower right');"
   ]
  },
  {
   "cell_type": "code",
   "execution_count": 36,
   "id": "e48a0010-c172-4b2d-90e6-32730d6f2ca6",
   "metadata": {},
   "outputs": [
    {
     "data": {
      "image/png": "[encoded data removed]",
      "text/plain": [
       "<Figure size 640x480 with 1 Axes>"
      ]
     },
     "metadata": {},
     "output_type": "display_data"
    }
   ],
   "source": [
    "plt.plot(history.history['loss'], label='loss')\n",
    "plt.plot(history.history['val_loss'], label = 'val_loss')\n",
    "plt.xlabel('Epoch')\n",
    "plt.ylabel('Loss')\n",
    "plt.legend()\n",
    "plt.title('Train vs Validation Loss Per Epoch');"
   ]
  },
  {
   "cell_type": "markdown",
   "id": "468bd186-e4d9-4fc3-a0fc-239a87a18e56",
   "metadata": {},
   "source": [
    "Lets create a submission entry for the competition"
   ]
  },
  {
   "cell_type": "code",
   "execution_count": 38,
   "id": "657654b4-6549-41af-9fc5-521798557ae9",
   "metadata": {},
   "outputs": [
    {
     "name": "stdout",
     "output_type": "stream",
     "text": [
      "57458/57458 [==============================] - 137s 2ms/step\n"
     ]
    }
   ],
   "source": [
    "test_imgs = os.listdir(\"png/test\")\n",
    "model1_pred_df = pd.DataFrame(columns=['id', 'label'])\n",
    "test_imgs=sorted(test_imgs)\n",
    "predictions = model.predict(test_dataset)"
   ]
  },
  {
   "cell_type": "code",
   "execution_count": 40,
   "id": "ec8e8734-055d-4aa2-b2ea-5f67b08e9ffe",
   "metadata": {},
   "outputs": [],
   "source": [
    "model1_pred_df['id'] = [filename.split('.')[0] for filename in test_imgs]\n",
    "model1_pred_df['label'] = np.round(predictions.flatten()).astype('int')\n",
    "model1_pred_df.to_csv('model_predictions.csv', index=False)"
   ]
  },
  {
   "cell_type": "markdown",
   "id": "8b0e0deb-2a2a-43b0-b414-fbfa48781c69",
   "metadata": {},
   "source": [
    "### In this project, we explored CNNs for histopathologic cancer detection. The model showed high accuracy."
   ]
  },
  {
   "cell_type": "code",
   "execution_count": null,
   "id": "d85ad216-6720-48c4-a948-a77cdadd6d14",
   "metadata": {},
   "outputs": [],
   "source": []
  },
  {
   "cell_type": "code",
   "execution_count": null,
   "id": "2e39860e-a8d5-4c81-85de-2eeb347491a4",
   "metadata": {},
   "outputs": [],
   "source": []
  }
 ],
 "metadata": {
  "kernelspec": {
   "display_name": "Python 3 (ipykernel)",
   "language": "python",
   "name": "python3"
  },
  "language_info": {
   "codemirror_mode": {
    "name": "ipython",
    "version": 3
   },
   "file_extension": ".py",
   "mimetype": "text/x-python",
   "name": "python",
   "nbconvert_exporter": "python",
   "pygments_lexer": "ipython3",
   "version": "3.10.12"
  }
 },
 "nbformat": 4,
 "nbformat_minor": 5
}
